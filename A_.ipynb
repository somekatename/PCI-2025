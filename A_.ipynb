{
  "nbformat": 4,
  "nbformat_minor": 0,
  "metadata": {
    "colab": {
      "provenance": []
    },
    "kernelspec": {
      "name": "python3",
      "display_name": "Python 3"
    },
    "language_info": {
      "name": "python"
    }
  },
  "cells": [
    {
      "cell_type": "code",
      "execution_count": null,
      "metadata": {
        "id": "S5GTktYqHP1t"
      },
      "outputs": [],
      "source": [
        "import random as rnd\n",
        "import matplotlib.pyplot as plt\n",
        "import numpy as np\n",
        "import sympy as sp\n",
        "from sympy import *\n",
        "from matplotlib import collections as mc\n",
        "from mpl_toolkits.axes_grid1.inset_locator import inset_axes\n",
        "import scipy as sc\n",
        "from scipy.integrate import quad\n",
        "from scipy.misc import derivative\n",
        "import heapq\n",
        "import math as m"
      ]
    },
    {
      "cell_type": "code",
      "source": [
        "# Цена доставки материалов\n",
        "alpha = 0.1\n",
        "\n",
        "# Функция поверхности\n",
        "def beta(x, y):\n",
        "    return 1 + np.sin(5*x) * np.sin(y)"
      ],
      "metadata": {
        "id": "592qlz_UIJgu"
      },
      "execution_count": null,
      "outputs": []
    },
    {
      "cell_type": "code",
      "source": [
        "def dist(x1, y1, x2, y2):\n",
        "  return np.sqrt((x1 - x2)**2 + (y1 - y2)**2)"
      ],
      "metadata": {
        "id": "6b431p8eILFc"
      },
      "execution_count": null,
      "outputs": []
    },
    {
      "cell_type": "code",
      "source": [
        "def ifoc(x1, y1, x2, y2):\n",
        "  if x2 < x1:\n",
        "    x1, x2 = x2, x1\n",
        "    y1, y2 = y2, y1\n",
        "  len = dist(x1, y1, x2, y2)\n",
        "  if x2 - x1 != 0:\n",
        "    k = (y2 - y1) / (x2 - x1)\n",
        "  else:\n",
        "    k = 0\n",
        "  x_range = np.linspace(x1, x2, 11).tolist()\n",
        "  y_range = [k * x + y1 - k * x1 for x in x_range]\n",
        "  sum = 0\n",
        "  for i in range(10):\n",
        "    sum += beta((x_range[i] + x_range[i + 1]) / 2, (y_range[i] + y_range[i + 1]) / 2)\n",
        "  return (alpha / 2) * len**2 + (len / 10) * sum"
      ],
      "metadata": {
        "id": "QmJ_E5GOINNo"
      },
      "execution_count": null,
      "outputs": []
    },
    {
      "cell_type": "code",
      "source": [
        "class Node:\n",
        "    def __init__(self, x, y):\n",
        "        self.x = x  # Координата x узла на карте\n",
        "        self.y = y  # Координата y узла на карте\n",
        "        self.g = 0  # Расстояние от начального узла до текущего узла\n",
        "        self.h = 0  # Примерное расстояние от текущего узла до конечного узла\n",
        "        self.f = 0  # Сумма g и h\n",
        "        self.parent = None  # Родительский узел, используется для восстановления пути\n",
        "\n",
        "    # Переопределяем оператор сравнения для сравнения узлов\n",
        "    def __lt__(self, other):\n",
        "        return self.f < other.f\n",
        "\n",
        "    # Переопределяем оператор равенства для сравнения узлов\n",
        "    def __eq__(self, other):\n",
        "        return self.x == other.x and self.y == other.y\n",
        "    def __hash__(self):\n",
        "        return hash((self.x, self.y))\n",
        "\n",
        "# Определяем функцию для нахождения пути с помощью алгоритма A*\n",
        "def astar(start, end, obstacles):\n",
        "    # Создаем начальный и конечный узлы\n",
        "    start_node = Node(start[0], start[1])\n",
        "    end_node = Node(end[0], end[1])\n",
        "\n",
        "    # Инициализируем очередь с приоритетами\n",
        "    open_list = []\n",
        "    heapq.heappush(open_list, start_node)\n",
        "\n",
        "    # Инициализируем множество посещенных узлов\n",
        "    closed_set = set()\n",
        "\n",
        "    # Пока очередь с приоритетами не пуста\n",
        "    while open_list:\n",
        "        # Извлекаем узел с наименьшей оценкой f\n",
        "        current_node = heapq.heappop(open_list)\n",
        "\n",
        "        # Если текущий узел является конечным\n",
        "        if current_node == end_node:\n",
        "            # Восстанавливаем путь от конечного узла до начального\n",
        "            path = []\n",
        "            while current_node is not None:\n",
        "                path.append((current_node.x, current_node.y))\n",
        "                current_node = current_node.parent\n",
        "            return path[::-1]\n",
        "\n",
        "        # Добавляем текущий узел в множество посещенных узлов\n",
        "        closed_set.add(current_node)\n",
        "\n",
        "        # Получаем соседние узлы\n",
        "        neighbors = []\n",
        "        for dx in range(-1, 2):\n",
        "            for dy in range(-1, 2):\n",
        "                # Игнорируем текущий узел\n",
        "                if dx == 0 and dy == 0:\n",
        "                    continue\n",
        "                # Вычисляем координаты соседнего узла\n",
        "                x = current_node.x + dx\n",
        "                y = current_node.y + dy\n",
        "                # Игнорируем узлы за пределами карты\n",
        "                if x < 0 or x >= len(obstacles) or y < 0 or y >= len(obstacles[0]):\n",
        "                    continue\n",
        "                # Игнорируем препятствия\n",
        "                if obstacles[x][y]:\n",
        "                    continue\n",
        "                # Создаем новый узел и добавляем его в список соседей\n",
        "                neighbor = Node(x, y)\n",
        "                neighbors.append(neighbor)\n",
        "\n",
        "        # Для каждого соседнего узла\n",
        "        for neighbor in neighbors:\n",
        "            # Если соседний узел уже был посещен, пропускаем его\n",
        "            if neighbor in closed_set:\n",
        "                continue\n",
        "\n",
        "            # Вычисляем расстояние от начального узла до соседнего узла\n",
        "            new_g = current_node.g + ifoc(current_node.x, current_node.y, neighbor.x, neighbor.y)\n",
        "\n",
        "            # Если соседний узел уже находится в очереди с приоритетами\n",
        "            if nfo := next((n for n in open_list if n == neighbor), None):\n",
        "                # Если новое расстояние до соседнего узла меньше, чем старое, обновляем значения g, h и f\n",
        "                if new_g < nfo.g:\n",
        "                    nfo.g = new_g\n",
        "                    nfo.h = m.sqrt((end_node.x - nfo.x) ** 2 + (end_node.y - nfo.y) ** 2)\n",
        "                    nfo.f = nfo.g + nfo.h\n",
        "                    nfo.parent = current_node\n",
        "                    # Обновляем приоритет соседнего узла в очереди с приоритетами\n",
        "                    heapq.heapify(open_list)\n",
        "            else:\n",
        "                # Иначе добавляем соседний узел в очередь с приоритетами и вычисляем значения g, h и f\n",
        "                neighbor.g = new_g\n",
        "                neighbor.h = m.sqrt((end_node.x - neighbor.x) ** 2 + (end_node.y - neighbor.y) ** 2)\n",
        "                neighbor.f = neighbor.g + neighbor.h\n",
        "                neighbor.parent = current_node\n",
        "                heapq.heappush(open_list, neighbor)\n",
        "\n",
        "    # Если конечный узел недостижим, возвращаем None\n",
        "    return None"
      ],
      "metadata": {
        "id": "bgQzDOryo9Z-"
      },
      "execution_count": null,
      "outputs": []
    },
    {
      "cell_type": "code",
      "source": [
        "grid = []\n",
        "ord = 210\n",
        "for row in range(ord + 1):\n",
        "    grid.append([])\n",
        "    for _ in range(ord + 1):\n",
        "        grid[row].append(0)\n",
        "start = [ord, 0]\n",
        "end = [0, ord]\n",
        "result = astar(start, end, grid)\n",
        "for item in result:\n",
        "    grid[item[0]][item[1]] += 1\n",
        "coord_grid = []\n",
        "for i in range(ord + 1):\n",
        "    coord_grid.append([])\n",
        "    for j in range(ord + 1):\n",
        "        coord_grid[i].append((0 + j/ord, 1 - i/ord))\n",
        "key_points_x, key_points_y = [], []\n",
        "for i in range(ord + 1):\n",
        "    for j in range(ord + 1):\n",
        "        if grid[i][j] == 1:\n",
        "            key_points_x.append(coord_grid[i][j][0])\n",
        "            key_points_y.append(coord_grid[i][j][1])\n",
        "key_points_x = [0] + key_points_x[::-1]\n",
        "key_points_y = [0] + key_points_y[::-1]\n",
        "cost = 0\n",
        "for i in range(1, len(key_points_x)):\n",
        "  cost += ifoc(key_points_x[i], key_points_y[i], key_points_x[i-1], key_points_y[i-1])\n",
        "print(f\"Стоимость строительства: {cost}\")"
      ],
      "metadata": {
        "colab": {
          "base_uri": "https://localhost:8080/"
        },
        "collapsed": true,
        "id": "8486Jl7XvPkx",
        "outputId": "24e7708f-dfc8-4aeb-d517-22e3de8f3352"
      },
      "execution_count": null,
      "outputs": [
        {
          "output_type": "stream",
          "name": "stdout",
          "text": [
            "Стоимость строительства: 1.7628928954119696\n"
          ]
        }
      ]
    },
    {
      "cell_type": "code",
      "source": [
        "def drawing_the_result(agents_x, agents_y):\n",
        "  xx, yy = np.meshgrid(np.linspace(0, 1, 100), np.linspace(0, 1, 100))\n",
        "  fig, ax = plt.subplots()\n",
        "  fig.set_figwidth(3)\n",
        "  fig.set_figheight(3)\n",
        "  ax = fig.add_subplot()\n",
        "  ax.grid()\n",
        "  im = ax.contourf(xx, yy, beta(xx, yy), np.linspace(-0.1, 1.9, 1000), cmap=\"gray\")\n",
        "  ax.scatter(agents_x, agents_y, marker=\".\", color='blue')\n",
        "  plt.minorticks_on()\n",
        "  axins = inset_axes(ax,\n",
        "                   width=\"7%\",\n",
        "                   height=\"100%\",\n",
        "                   loc='lower left',\n",
        "                   bbox_to_anchor=(1.05, 0., 1, 1),\n",
        "                   bbox_transform=ax.transAxes,\n",
        "                   borderpad=0,\n",
        "                   )\n",
        "  plt.colorbar(im, cax=axins)\n",
        "  plt.tight_layout()\n",
        "  plt.show()\n",
        "\n",
        "drawing_the_result(key_points_x, key_points_y)"
      ],
      "metadata": {
        "colab": {
          "base_uri": "https://localhost:8080/",
          "height": 341
        },
        "id": "F5UUuL7tp8Ox",
        "outputId": "886cade3-2a87-408b-b7f2-be3109de27bc"
      },
      "execution_count": null,
      "outputs": [
        {
          "output_type": "stream",
          "name": "stderr",
          "text": [
            "<ipython-input-141-820efbc51136>:20: UserWarning: This figure includes Axes that are not compatible with tight_layout, so results might be incorrect.\n",
            "  plt.tight_layout()\n"
          ]
        },
        {
          "output_type": "display_data",
          "data": {
            "text/plain": [
              "<Figure size 300x300 with 3 Axes>"
            ],
            "image/png": "[encoded data removed]"
          },
          "metadata": {}
        }
      ]
    }
  ]
}
